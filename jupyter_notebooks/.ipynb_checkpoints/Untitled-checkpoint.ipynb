{
 "cells": [
  {
   "cell_type": "code",
   "execution_count": 2,
   "metadata": {},
   "outputs": [
    {
     "name": "stdout",
     "output_type": "stream",
     "text": [
      "(10, 25)\n",
      "(10, 25)\n"
     ]
    }
   ],
   "source": [
    "import numpy as np\n",
    "X = np.load('assignment8_X.npy')\n",
    "Y = np.load('assignment8_Y.npy')\n",
    "X = X.T\n",
    "Y = Y.T\n",
    "\n",
    "np.save('assignment8_X.npy', X)\n",
    "np.save('assignment8_Y.npy', Y)\n",
    "X = np.load('assignment8_X.npy')\n",
    "Y = np.load('assignment8_Y.npy')\n",
    "\n",
    "print(X.shape)\n",
    "print(Y.shape)"
   ]
  },
  {
   "cell_type": "code",
   "execution_count": null,
   "metadata": {},
   "outputs": [],
   "source": []
  }
 ],
 "metadata": {
  "kernelspec": {
   "display_name": "Python 3",
   "language": "python",
   "name": "python3"
  },
  "language_info": {
   "codemirror_mode": {
    "name": "ipython",
    "version": 3
   },
   "file_extension": ".py",
   "mimetype": "text/x-python",
   "name": "python",
   "nbconvert_exporter": "python",
   "pygments_lexer": "ipython3",
   "version": "3.6.3"
  }
 },
 "nbformat": 4,
 "nbformat_minor": 2
}
