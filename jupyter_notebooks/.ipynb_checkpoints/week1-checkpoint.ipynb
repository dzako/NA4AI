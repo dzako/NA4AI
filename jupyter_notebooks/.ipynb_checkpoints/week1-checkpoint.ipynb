{
 "cells": [
  {
   "cell_type": "code",
   "execution_count": null,
   "metadata": {},
   "outputs": [],
   "source": [
    "\n",
    "#this is the notebook for week1 of the class 'Numerical Methods for AI' CSE190\n",
    "#introduction to calculus and linear algebra and python language\n"
   ]
  },
  {
   "cell_type": "code",
   "execution_count": 31,
   "metadata": {},
   "outputs": [
    {
     "name": "stdout",
     "output_type": "stream",
     "text": [
      "Hello, World!\n"
     ]
    }
   ],
   "source": [
    "#the first easiest program in Python and its output below\n",
    "print (\"Hello, World!\")"
   ]
  },
  {
   "cell_type": "code",
   "execution_count": 105,
   "metadata": {},
   "outputs": [
    {
     "name": "stdout",
     "output_type": "stream",
     "text": [
      "sorting array [3, 6, 8, 9, 2, 4, 1]\n",
      "[1, 2, 3, 4, 6, 8, 9]\n"
     ]
    }
   ],
   "source": [
    "#a more complicated program\n",
    "def quicksort(arr):\n",
    "    if len(arr) <= 1:\n",
    "        return arr\n",
    "    pivot = arr[len(arr) // 2]\n",
    "    left = [x for x in arr if x < pivot]\n",
    "    middle = [x for x in arr if x == pivot]\n",
    "    right = [x for x in arr if x > pivot]\n",
    "    return quicksort(left) + middle + quicksort(right)\n",
    "\n",
    "arr = [3,6,8,9,2,4,1]\n",
    "print(\"sorting array %s\" % (str)(arr))\n",
    "print(quicksort(arr))"
   ]
  },
  {
   "cell_type": "code",
   "execution_count": 33,
   "metadata": {},
   "outputs": [
    {
     "name": "stdout",
     "output_type": "stream",
     "text": [
      "5 2 7 Hello, World!\n"
     ]
    }
   ],
   "source": [
    "#Variables\n",
    "x = 5\n",
    "y = 2\n",
    "string = \"Hello, World!\"\n",
    "z = x + y\n",
    "print(x,y,z,string)"
   ]
  },
  {
   "cell_type": "code",
   "execution_count": 36,
   "metadata": {},
   "outputs": [
    {
     "name": "stdout",
     "output_type": "stream",
     "text": [
      "[] [0, 0, 0, 0, 0, 0, 0, 0, 0, 0]\n",
      "[1]\n"
     ]
    }
   ],
   "source": [
    "listt = [] #empty list\n",
    "zeros_list = [0] * 10 #generating list of zeros\n",
    "print(listt, zeros_list)\n",
    "listt.append(1)# append to empty list\n",
    "print(listt, len(listt))"
   ]
  },
  {
   "cell_type": "code",
   "execution_count": 12,
   "metadata": {},
   "outputs": [
    {
     "name": "stdout",
     "output_type": "stream",
     "text": [
      "[0, 1, 2, 3, 4, 5, 6, 7, 8, 9]\n",
      "[2, 3]\n",
      "[2, 3, 4, 5, 6, 7, 8, 9]\n",
      "[0, 1]\n",
      "[0, 1, 2, 3, 4, 5, 6, 7, 8, 9]\n",
      "[0, 1, 2, 3, 4, 5, 6, 7, 8]\n",
      "[9, 8, 7, 6, 5, 4, 3, 2, 1, 0]\n",
      "[0, 2, 4, 6, 8]\n",
      "[4, 3, 2, 1, 0, 4, 5, 6, 7, 8, 9]\n"
     ]
    }
   ],
   "source": [
    "#generate a list of sequential integers \n",
    "nums = list(range(10))\n",
    "print(nums)\n",
    "#slicing examples\n",
    "print(nums[2:4])\n",
    "print(nums[2:])\n",
    "print(nums[:2])\n",
    "print(nums[:])\n",
    "print(nums[:-1]) #-1 means here upto the last element\n",
    "print(nums[::-1]) #printing in reverse\n",
    "print(nums[0:-1:2]) #printing elements on even positions\n",
    "nums[0:4] = [4,3,2,1,0]\n",
    "print(nums)"
   ]
  },
  {
   "cell_type": "code",
   "execution_count": 15,
   "metadata": {},
   "outputs": [
    {
     "name": "stdout",
     "output_type": "stream",
     "text": [
      "7\n",
      "7\n"
     ]
    }
   ],
   "source": [
    "#a standard way of defining a function\n",
    "def add_numbers(a, b):\n",
    "    return a + b\n",
    "print(add_numbers(3, 4))\n",
    "\n",
    "#lambda function\n",
    "lambda_add_numbers = lambda a, b: a + b\n",
    "print(lambda_add_numbers(3, 4))"
   ]
  },
  {
   "cell_type": "code",
   "execution_count": 120,
   "metadata": {},
   "outputs": [
    {
     "name": "stdout",
     "output_type": "stream",
     "text": [
      "Hello, Fred\n"
     ]
    }
   ],
   "source": [
    "#example of a class\n",
    "class Greeter(object):\n",
    "\n",
    "    # Constructor\n",
    "    def __init__(self, name):\n",
    "        self.name = name  # Create an instance variable\n",
    "\n",
    "    # Instance method\n",
    "    def greet(self, loud=False):\n",
    "        if loud:\n",
    "            print('HELLO, %s!' % self.name.upper())\n",
    "        else:\n",
    "            print('Hello, %s' % self.name)\n",
    "\n",
    "g = Greeter('Fred')  # Construct an instance of the Greeter class\n",
    "g.greet()"
   ]
  },
  {
   "cell_type": "code",
   "execution_count": 19,
   "metadata": {},
   "outputs": [
    {
     "name": "stdout",
     "output_type": "stream",
     "text": [
      "[0.0, 0.5, 1.0, 1.5, 2.0, 2.5, 3.0, 3.5, 4.0, 4.5]\n"
     ]
    }
   ],
   "source": [
    "filled_list = [a/2 for a in range(10)]\n",
    "print(filled_list)"
   ]
  },
  {
   "cell_type": "code",
   "execution_count": 114,
   "metadata": {},
   "outputs": [
    {
     "name": "stdout",
     "output_type": "stream",
     "text": [
      "Looping 0\n",
      "Looping 0\n",
      "Looping 1\n",
      "Looping 1\n",
      "Looping 2\n",
      "Looping 2\n",
      "Looping 3\n",
      "Looping 3\n",
      "Looping 4\n",
      "Looping 4\n"
     ]
    }
   ],
   "source": [
    "#looping over a list, and printing the output\n",
    "for i in range(10):\n",
    "    print (\"Looping %d\" % filled_list[i])"
   ]
  },
  {
   "cell_type": "code",
   "execution_count": 115,
   "metadata": {},
   "outputs": [
    {
     "name": "stdout",
     "output_type": "stream",
     "text": [
      "0.0\n",
      "0.5\n",
      "1.0\n",
      "1.5\n",
      "2.0\n",
      "2.5\n",
      "3.0\n",
      "3.5\n",
      "4.0\n",
      "4.5\n"
     ]
    }
   ],
   "source": [
    "#another way of looping over the list\n",
    "for elem in filled_list:\n",
    "    print(elem)"
   ]
  },
  {
   "cell_type": "code",
   "execution_count": 119,
   "metadata": {},
   "outputs": [
    {
     "name": "stdout",
     "output_type": "stream",
     "text": [
      "[0, 4, 16]\n"
     ]
    }
   ],
   "source": [
    "#list comprehension - \n",
    "#concise notation for generating a new list\n",
    "nums = [0, 1, 2, 3, 4]\n",
    "squares = [x ** 2 for x in nums if x % 2 == 0]\n",
    "print(squares) "
   ]
  },
  {
   "cell_type": "code",
   "execution_count": 85,
   "metadata": {},
   "outputs": [],
   "source": [
    "#importing numpy -- very powerful toolbox\n",
    "import numpy as np"
   ]
  },
  {
   "cell_type": "code",
   "execution_count": 229,
   "metadata": {},
   "outputs": [
    {
     "name": "stdout",
     "output_type": "stream",
     "text": [
      "[0. 0. 0. 0. 0.]\n",
      "[[1]\n",
      " [2]\n",
      " [3]\n",
      " [4]\n",
      " [5]]\n",
      "[[1]\n",
      " [2]\n",
      " [3]\n",
      " [4]\n",
      " [5]]\n"
     ]
    }
   ],
   "source": [
    "#some different ways of creating vectors in numpy\n",
    "vector = np.zeros((5,), dtype = float)\n",
    "print(vector)\n",
    "\n",
    "#given (column) vector\n",
    "vec = np.array([ [1],[2], [3], [4], [5]])\n",
    "print(vec)\n",
    "\n",
    "#a different way of defining a column vector\n",
    "vec2 =  np.array([1, 2, 3, 4, 5]).reshape((5,1))\n",
    "print(vec2)"
   ]
  },
  {
   "cell_type": "code",
   "execution_count": 87,
   "metadata": {},
   "outputs": [
    {
     "name": "stdout",
     "output_type": "stream",
     "text": [
      "[[ 2]\n",
      " [ 4]\n",
      " [ 6]\n",
      " [ 8]\n",
      " [10]]\n",
      "vec + vec2 = [[ 2]\n",
      " [ 4]\n",
      " [ 6]\n",
      " [ 8]\n",
      " [10]]\n",
      "[[ 1]\n",
      " [ 4]\n",
      " [ 9]\n",
      " [16]\n",
      " [25]]\n",
      "vec * vec2 = [[ 1]\n",
      " [ 4]\n",
      " [ 9]\n",
      " [16]\n",
      " [25]]\n",
      " 3 * vec = [[ 3]\n",
      " [ 6]\n",
      " [ 9]\n",
      " [12]\n",
      " [15]]\n",
      "dot product = 450\n",
      "Euclidean norm of the vector [[1]\n",
      " [2]\n",
      " [3]\n",
      " [4]\n",
      " [5]] = 7\n",
      "'Manhattan' norm of the vector [[1]\n",
      " [2]\n",
      " [3]\n",
      " [4]\n",
      " [5]] = 15\n"
     ]
    }
   ],
   "source": [
    "#basic vector operations\n",
    "#addition\n",
    "r1 = vec + vec2\n",
    "print(r1)\n",
    "print( \"vec + vec2 = %s\" % (str)(r1))\n",
    "#componentwise product\n",
    "r2 = vec * vec2\n",
    "print(r2)\n",
    "print( \"vec * vec2 = %s\" % (str)(r2))\n",
    "#scalar multiplication\n",
    "r3 = 3 * vec\n",
    "print( \" 3 * vec = %s\" % (str)(r3))\n",
    "#dot product\n",
    "r4 = np.dot( np.squeeze(r1), np.squeeze(r2) )\n",
    "print( \"dot product = %d\" % r4)\n",
    "\n",
    "#(Euclidean)norm of a vector\n",
    "norm = np.linalg.norm(vec)\n",
    "print(\"Euclidean norm of the vector %s = %d\" % ((str)(vec), norm))\n",
    "mnorm = np.linalg.norm(vec, 1)\n",
    "print(\"'Manhattan' norm of the vector %s = %d\" % ((str)(vec), mnorm))"
   ]
  },
  {
   "cell_type": "code",
   "execution_count": 88,
   "metadata": {},
   "outputs": [
    {
     "name": "stdout",
     "output_type": "stream",
     "text": [
      "[[ 2  2  3]\n",
      " [ 4  6  6]\n",
      " [ 7  8 10]]\n",
      "[[1 0 0]\n",
      " [0 5 0]\n",
      " [0 0 9]]\n",
      "[[1 2 3]\n",
      " [4 5 6]\n",
      " [7 8 9]]\n",
      "(3, 3)\n"
     ]
    }
   ],
   "source": [
    "#matrices\n",
    "M = np.array([[1, 2, 3], \n",
    "              [4, 5, 6], \n",
    "              [7, 8, 9]])\n",
    "\n",
    "N = np.array([[1, 0, 0], \n",
    "              [0, 1, 0], \n",
    "              [0, 0, 1]])\n",
    "\n",
    "#addition of matrices\n",
    "R1 = M + N\n",
    "print(R1)\n",
    "#ELEMENTWISE multiplication of matrices\n",
    "R2 = M*N\n",
    "print(R2)\n",
    "#product of two matrices\n",
    "R3 = np.dot(M, N)\n",
    "print(R3)\n",
    "#matrix dimension\n",
    "print(M.shape)"
   ]
  },
  {
   "cell_type": "code",
   "execution_count": 89,
   "metadata": {},
   "outputs": [
    {
     "name": "stdout",
     "output_type": "stream",
     "text": [
      "[[14]\n",
      " [32]\n",
      " [50]]\n"
     ]
    }
   ],
   "source": [
    "#matrix times vector product\n",
    "vec = np.array([ [1],[2], [3]])\n",
    "\n",
    "R = np.dot(M, vec)\n",
    "print(R)"
   ]
  },
  {
   "cell_type": "code",
   "execution_count": 90,
   "metadata": {},
   "outputs": [
    {
     "name": "stdout",
     "output_type": "stream",
     "text": [
      "[[0. 0. 0.]\n",
      " [0. 0. 0.]\n",
      " [0. 0. 0.]]\n",
      "[[1. 1. 1.]\n",
      " [1. 1. 1.]\n",
      " [1. 1. 1.]]\n",
      "[[6 6 6]\n",
      " [6 6 6]\n",
      " [6 6 6]]\n",
      "[[0.27053395 0.78606557 0.97035595]\n",
      " [0.52679812 0.27318018 0.53061996]\n",
      " [0.26108459 0.29791167 0.00438492]]\n",
      "[[1. 0. 0.]\n",
      " [0. 1. 0.]\n",
      " [0. 0. 1.]]\n"
     ]
    }
   ],
   "source": [
    "#other ways of creating matrices\n",
    "#zeros matrix\n",
    "zM = np.zeros((3,3))\n",
    "print(zM)\n",
    "#ones matrix\n",
    "oM = np.ones( (3,3))\n",
    "print(oM)\n",
    "#given element matrix\n",
    "sM = np.full((3,3), 6)\n",
    "print(sM)\n",
    "# a random matrix\n",
    "rM = np.random.random( (3,3) )\n",
    "print(rM)\n",
    "#identity matrix\n",
    "Id = np.eye( 3 )\n",
    "print(Id)"
   ]
  },
  {
   "cell_type": "code",
   "execution_count": 113,
   "metadata": {},
   "outputs": [
    {
     "name": "stdout",
     "output_type": "stream",
     "text": [
      "[[1 2 3]\n",
      " [4 5 6]\n",
      " [7 8 9]]\n",
      "[[1 2]\n",
      " [4 5]]\n",
      "[[1 2]\n",
      " [4 5]\n",
      " [7 8]]\n",
      "[[5 6]\n",
      " [8 9]]\n",
      "[[5]]\n"
     ]
    }
   ],
   "source": [
    "#matrix indexing and slicing\n",
    "M = np.array([[1, 2, 3], \n",
    "              [4, 5, 6], \n",
    "              [7, 8, 9]])\n",
    "print(M)\n",
    "print(M[0:2,0:2])\n",
    "print(M[:,0:2])\n",
    "print(M[1:,1:])\n",
    "print(M[1:-1,1:-1])"
   ]
  },
  {
   "cell_type": "code",
   "execution_count": 124,
   "metadata": {},
   "outputs": [
    {
     "name": "stdout",
     "output_type": "stream",
     "text": [
      "[0 0 0]\n",
      "[[0 2 3]\n",
      " [4 0 6]\n",
      " [7 8 0]]\n"
     ]
    }
   ],
   "source": [
    "#more advanced matrix indexing using indexing arrays\n",
    "#set the diagonal to zero\n",
    "indices = [ [0,1,2], [0,1,2] ] \n",
    "print(M[indices])\n",
    "M[indices] = 0\n",
    "print(M)\n"
   ]
  },
  {
   "cell_type": "code",
   "execution_count": 127,
   "metadata": {},
   "outputs": [
    {
     "name": "stdout",
     "output_type": "stream",
     "text": [
      "[[False False False]\n",
      " [False False False]\n",
      " [False False False]]\n",
      "[[ 0  2  3]\n",
      " [-1  0 -1]\n",
      " [-1 -1  0]]\n"
     ]
    }
   ],
   "source": [
    "#Boolean array indexing: \n",
    "#Boolean array indexing lets you pick out arbitrary elements of an array\n",
    "boolidx = M > 4\n",
    "print(boolidx)\n",
    "M[boolidx] = -1\n",
    "print(M)"
   ]
  },
  {
   "cell_type": "code",
   "execution_count": 92,
   "metadata": {},
   "outputs": [
    {
     "name": "stdout",
     "output_type": "stream",
     "text": [
      "[[1 2 3]\n",
      " [4 5 6]\n",
      " [7 8 9]]\n",
      "[[1 4 7]\n",
      " [2 5 8]\n",
      " [3 6 9]]\n"
     ]
    }
   ],
   "source": [
    "#matrix operations\n",
    "#*transpose M.T\n",
    "print(M)\n",
    "print(M.T)"
   ]
  },
  {
   "cell_type": "code",
   "execution_count": 231,
   "metadata": {},
   "outputs": [
    {
     "name": "stdout",
     "output_type": "stream",
     "text": [
      "[[1 2 3]\n",
      " [2 1 2]\n",
      " [3 2 1]]\n",
      "[[1 2 3]\n",
      " [2 1 2]\n",
      " [3 2 1]]\n",
      "True\n"
     ]
    }
   ],
   "source": [
    "#a symmetric matrix\n",
    "S = np.array([[1, 2, 3],\n",
    "             [2, 1, 2],\n",
    "             [3, 2, 1]])\n",
    "print(S)\n",
    "print(S.T)\n",
    "print( np.array_equal(S, S.T) )"
   ]
  },
  {
   "cell_type": "code",
   "execution_count": 232,
   "metadata": {},
   "outputs": [
    {
     "name": "stdout",
     "output_type": "stream",
     "text": [
      "[[ 6  2  8]\n",
      " [ 9  5 11]\n",
      " [12  8 14]\n",
      " [15 11 17]]\n"
     ]
    }
   ],
   "source": [
    "#broadcasting for matrices\n",
    "x = np.array([[1,2,3], [4,5,6], [7,8,9], [10, 11, 12]])\n",
    "v = np.array([5, 0, 5])\n",
    "y = x + v\n",
    "print(y) "
   ]
  },
  {
   "cell_type": "code",
   "execution_count": 233,
   "metadata": {},
   "outputs": [
    {
     "name": "stdout",
     "output_type": "stream",
     "text": [
      "8.000000000000002\n"
     ]
    }
   ],
   "source": [
    "#matrix determinant\n",
    "detS = np.linalg.det(S)\n",
    "print(detS)"
   ]
  },
  {
   "cell_type": "code",
   "execution_count": 235,
   "metadata": {},
   "outputs": [
    {
     "name": "stdout",
     "output_type": "stream",
     "text": [
      "[[-0.375  0.5    0.125]\n",
      " [ 0.5   -1.     0.5  ]\n",
      " [ 0.125  0.5   -0.375]]\n",
      "inverse of badS =\n",
      "[[-7.50599938e+14 -7.50599938e+14  7.50599938e+14]\n",
      " [-3.00239975e+15 -3.00239975e+15  3.00239975e+15]\n",
      " [ 2.25179981e+15  2.25179981e+15 -2.25179981e+15]]\n",
      "very large numbers, because this matrix is noninvertible. how to check it ?\n",
      "determinant of badS = 0.000000\n"
     ]
    }
   ],
   "source": [
    "#if determinant is nonzero we can invert the matrix\n",
    "invS = np.linalg.inv(S)\n",
    "print(invS)\n",
    "\n",
    "badS = np.array([[1, 2, 3],\n",
    "                 [2, 1, 2],\n",
    "                 [3, 3, 5]])\n",
    "#oooops badS is NONinvertible\n",
    "invBadS = np.linalg.inv(badS)\n",
    "print(\"inverse of badS =\\n%s\" % (str)(invBadS))\n",
    "print(\"very large numbers, because this matrix is noninvertible. how to check it ?\")\n",
    "detBadS = np.linalg.det(badS)\n",
    "print(\"determinant of badS = %f\" % detBadS)"
   ]
  },
  {
   "cell_type": "code",
   "execution_count": 99,
   "metadata": {},
   "outputs": [
    {
     "name": "stdout",
     "output_type": "stream",
     "text": [
      "eigenvalues =[-1. -2.]\n",
      "eigenvectors =[[ 0.70710678 -0.4472136 ]\n",
      " [-0.70710678  0.89442719]]\n"
     ]
    }
   ],
   "source": [
    "#computation of eigenvalues\n",
    "M = np.array([[0, 1],[-2, -3]])\n",
    "eigvals, eigvecs = np.linalg.eig(M)\n",
    "print(\"eigenvalues =%s\" % (str)(eigvals))\n",
    "print(\"eigenvectors =%s\" % (str)(eigvecs))"
   ]
  },
  {
   "cell_type": "code",
   "execution_count": 97,
   "metadata": {},
   "outputs": [
    {
     "name": "stdout",
     "output_type": "stream",
     "text": [
      "eigenvalues =[ 8.00000000e+00 -1.00000000e+00  4.65122058e-16]\n",
      "eigenvectors =[[ 4.52678730e-01  7.07106781e-01 -1.96116135e-01]\n",
      " [ 3.62142984e-01 -7.07106781e-01 -7.84464541e-01]\n",
      " [ 8.14821714e-01 -2.07739808e-17  5.88348405e-01]]\n"
     ]
    }
   ],
   "source": [
    "#computation of eigenvalues of a noninvertible matrix\n",
    "eigvals, eigvecs = np.linalg.eig(badS)\n",
    "print(\"eigenvalues =%s\" % (str)(eigvals))\n",
    "print(\"eigenvectors =%s\" % (str)(eigvecs))"
   ]
  },
  {
   "cell_type": "code",
   "execution_count": 102,
   "metadata": {},
   "outputs": [
    {
     "name": "stdout",
     "output_type": "stream",
     "text": [
      "U =[[-0.22975292  0.97324899]\n",
      " [ 0.97324899  0.22975292]]\n",
      "S =[3.70245917 0.54018151]\n",
      "VT =[[-0.52573111 -0.85065081]\n",
      " [-0.85065081  0.52573111]]\n",
      "P =[[-1.21244049e-16  1.00000000e+00]\n",
      " [-2.00000000e+00 -3.00000000e+00]]\n"
     ]
    }
   ],
   "source": [
    "#SVD - Singular Value Decomposition\n",
    "U, S, VT = np.linalg.svd(M)\n",
    "print(\"U =%s\" % (str)(U))\n",
    "print(\"S =%s\" % (str)(S))\n",
    "print(\"VT =%s\" % (str)(VT))\n",
    "#compute the product U*S*VT to see if its the same matrix\n",
    "P = np.dot( np.dot(U, np.diag(S)), VT)\n",
    "print(\"P =%s\" % (str)(P))"
   ]
  },
  {
   "cell_type": "code",
   "execution_count": null,
   "metadata": {},
   "outputs": [],
   "source": [
    "#!HOMEWORK\n",
    "#compute the rotation angles represented by the transform matrices U and V "
   ]
  },
  {
   "cell_type": "code",
   "execution_count": 236,
   "metadata": {},
   "outputs": [
    {
     "name": "stdout",
     "output_type": "stream",
     "text": [
      "matrix A:\n",
      "[[ 1  2  3  4  5  6  7  8  9 10]\n",
      " [11 12 13 14 15 16 17 18 19 20]\n",
      " [21 22 23 24 25 26 27 28 29 30]]\n",
      "[[ 1.  2.  3.  4.  5.  6.  7.  8.  9. 10.]\n",
      " [11. 12. 13. 14. 15. 16. 17. 18. 19. 20.]\n",
      " [21. 22. 23. 24. 25. 26. 27. 28. 29. 30.]]\n",
      "rows of matrix A projected onto two principal eigenvectors:\n",
      "[[-18.52157747   6.47697214]\n",
      " [-49.81310011   1.91182038]\n",
      " [-81.10462276  -2.65333138]]\n"
     ]
    }
   ],
   "source": [
    "#projection onto two PCA components of a high dimensional data matrix\n",
    "A = np.array([\n",
    "    [1, 2, 3, 4, 5, 6, 7, 8, 9, 10],\n",
    "    [11,12,13,14,15,16,17,18,19,20],\n",
    "    [21,22,23,24,25,26,27,28,29,30]])\n",
    "print(\"matrix A:\")\n",
    "print(A)\n",
    "# Singular-value decomposition\n",
    "U, s, VT = np.linalg.svd(A)\n",
    "# populate Sigma with n x n diagonal matrix\n",
    "Sigma = np.diag(s)\n",
    "# select\n",
    "n_elements = 2\n",
    "Sigma = Sigma[:, :n_elements]\n",
    "VT = VT[:n_elements, :]\n",
    "#check if  the original matrix  is reconstructed\n",
    "B = U.dot(Sigma.dot(VT))\n",
    "print(B)\n",
    "# project all datapoints in A onto the principal eigenvectors\n",
    "print(\"rows of matrix A projected onto two principal eigenvectors:\")\n",
    "T = A.dot(VT.T)\n",
    "print(T)"
   ]
  },
  {
   "cell_type": "code",
   "execution_count": 237,
   "metadata": {},
   "outputs": [
    {
     "name": "stdout",
     "output_type": "stream",
     "text": [
      "[[-1.]\n",
      " [ 2.]\n",
      " [ 1.]]\n",
      "[[ 1.]\n",
      " [-1.]\n",
      " [ 7.]]\n"
     ]
    }
   ],
   "source": [
    "#various methods of solving systems of linear equations\n",
    "\n",
    "#we want to solve the system\n",
    "# Ax = b , i.e. find vector x , which satisfy this equation\n",
    "# the fist method is to invert A, i.e. x = A^(-1)b\n",
    "A = np.array( [ [2,1,1], [6,2,1], [-2, 2, 1] ] )\n",
    "b = np. array( [[1],[-1],[7]])\n",
    "x = np.zeros(3)\n",
    "\n",
    "Ainv  = np.linalg.inv(A)\n",
    "x = np.dot(Ainv, b)\n",
    "print(x)\n",
    "#test the computed solution (if Ax == b)\n",
    "result = np.dot(A, x)\n",
    "print(result)\n",
    "\n",
    "#!HOMEWORK\n",
    "#solve linear system using the Cramers' rule\n",
    "#look for the algorithm in the shared Meyer's book\n"
   ]
  },
  {
   "cell_type": "code",
   "execution_count": 243,
   "metadata": {},
   "outputs": [
    {
     "name": "stdout",
     "output_type": "stream",
     "text": [
      "matrix A:\n",
      "[[1 2 1 3 3]\n",
      " [2 4 0 4 4]\n",
      " [1 2 3 5 5]\n",
      " [2 4 0 4 7]]\n",
      "vector b:\n",
      "[[5]\n",
      " [6]\n",
      " [9]\n",
      " [9]]\n",
      "LU decomposition of matrix A (first L, second U):\n",
      "[[1.  0.  0.  0. ]\n",
      " [0.5 1.  0.  0. ]\n",
      " [0.5 0.  1.  0. ]\n",
      " [1.  0.  0.  1. ]]\n",
      "[[2. 4. 0. 4. 4.]\n",
      " [0. 0. 1. 1. 1.]\n",
      " [0. 0. 3. 3. 3.]\n",
      " [0. 0. 0. 0. 3.]]\n",
      "L*U (for testing):\n",
      "[[1. 2. 1. 3. 3.]\n",
      " [2. 4. 0. 4. 4.]\n",
      " [1. 2. 3. 5. 5.]\n",
      " [2. 4. 0. 4. 7.]]\n",
      "[[6.]\n",
      " [2.]\n",
      " [6.]\n",
      " [3.]]\n",
      "the infinite set of solutions to Ax = b \n",
      "2x_1+4x_2+4x_4+4x_5 = 5\n",
      "1x_3+1x_4+1x_5 = 6\n",
      "3x_3+3x_4+3x_5 = 9\n",
      "3x_5 = 9\n",
      "\n"
     ]
    }
   ],
   "source": [
    " #use scipy library\n",
    "import scipy.linalg\n",
    "\n",
    "#what about systems determined by nonsquare matrices?\n",
    "#example of putting a matrix in the row-echelon form\n",
    "A = np.array([ [1,2,1,3,3], [2,4,0,4,4], [1,2,3,5,5], [2,4,0,4,7] ])\n",
    "b = np.array([ [5], [6], [9], [9] ])\n",
    "\n",
    "x = np.zeros(4)\n",
    "\n",
    "P, L, U = scipy.linalg.lu(A)\n",
    "\n",
    "print(\"matrix A:\")\n",
    "print(A)\n",
    "print(\"vector b:\")\n",
    "print(b)\n",
    "print(\"LU decomposition of matrix A (first L, second U):\")\n",
    "print( L )\n",
    "print( U )\n",
    "\n",
    "#recompute the matrix\n",
    "R = P.dot(L.dot(U))\n",
    "print(\"L*U (for testing):\")\n",
    "print(R)\n",
    "\n",
    "\n",
    "#print the infnite set of solutions\n",
    "Pinv = np.linalg.inv(P)\n",
    "Linv = np.linalg.inv(L)\n",
    "print( (Linv.dot(Pinv)).dot(b) )\n",
    "\n",
    "print(\"the infinite set of solutions to Ax = b \")\n",
    "s = \"\"\n",
    "for i in range(4): #iterate over rows\n",
    "    for j in range(5): #iterate over columns\n",
    "        if(U[i,j] != 0):\n",
    "            s += \"%dx_%d\" % (U[i,j], j+1)\n",
    "            if(j < 4):\n",
    "                s+= \"+\"\n",
    "    s += \" = %d\\n\" % b[i]\n",
    "print(s)\n",
    "    "
   ]
  },
  {
   "cell_type": "code",
   "execution_count": 244,
   "metadata": {},
   "outputs": [
    {
     "name": "stdout",
     "output_type": "stream",
     "text": [
      "M:\n",
      "[[1 2 3]\n",
      " [4 5 6]\n",
      " [7 8 9]]\n",
      "QR decomposition of matrix M (Q first, R second):\n",
      "[[-0.12309149  0.90453403  0.40824829]\n",
      " [-0.49236596  0.30151134 -0.81649658]\n",
      " [-0.86164044 -0.30151134  0.40824829]]\n",
      "[[-8.12403840e+00 -9.60113630e+00 -1.10782342e+01]\n",
      " [ 0.00000000e+00  9.04534034e-01  1.80906807e+00]\n",
      " [ 0.00000000e+00  0.00000000e+00 -1.11164740e-15]]\n"
     ]
    }
   ],
   "source": [
    "#some other useful matrix decomposition techniques\n",
    "M = np.array([[1, 2, 3], [4, 5, 6], [7, 8, 9]])\n",
    "Q, R = scipy.linalg.qr(M)\n",
    "print(\"M:\")\n",
    "print(M)\n",
    "print(\"QR decomposition of matrix M (Q first, R second):\")\n",
    "print(Q)\n",
    "print(R)"
   ]
  },
  {
   "cell_type": "code",
   "execution_count": 245,
   "metadata": {},
   "outputs": [
    {
     "name": "stdout",
     "output_type": "stream",
     "text": [
      "several iteration of page-rank algorithm fiding ranks of some webpages\n",
      "[[0.125      0.20833333 0.20833333 0.45833333]]\n",
      "[[0.10416667 0.27083333 0.27083333 0.35416667]]\n",
      "[[0.13541667 0.21180556 0.21180556 0.44097222]]\n",
      "[[0.10590278 0.265625   0.265625   0.36284722]]\n",
      "[[0.1328125  0.21672454 0.21672454 0.43373843]]\n",
      "[[0.10836227 0.26114005 0.26114005 0.36935764]]\n",
      "[[0.13057002 0.22079958 0.22079958 0.42783083]]\n",
      "[[0.11039979 0.25743875 0.25743875 0.3747227 ]]\n",
      "[[0.12871938 0.22416128 0.22416128 0.42295806]]\n",
      "[[0.11208064 0.25438549 0.25438549 0.37914838]]\n",
      "[[0.12719274 0.2269344  0.2269344  0.41893845]]\n",
      "[[0.1134672  0.25186681 0.25186681 0.38279919]]\n",
      "[[0.1259334  0.22922199 0.22922199 0.41562261]]\n",
      "[[0.114611   0.2497891  0.2497891  0.38581079]]\n",
      "[[0.12489455 0.23110906 0.23110906 0.41288732]]\n",
      "[[0.11555453 0.24807518 0.24807518 0.38829511]]\n",
      "[[0.12403759 0.23266573 0.23266573 0.41063095]]\n",
      "[[0.11633287 0.24666134 0.24666134 0.39034446]]\n",
      "[[0.12333067 0.23394985 0.23394985 0.40876963]]\n",
      "[[0.11697493 0.24549504 0.24549504 0.392035  ]]\n",
      "[-0.22298824 -0.44597649 -0.44597649 -0.74329415]\n"
     ]
    }
   ],
   "source": [
    "#brief introduction to pagerank algorithm\n",
    "L = np.array([[0, 0.5, 0, 0], [1/3, 0, 0, 0.5], [1/3, 0, 0, 0.5], [1/3, 0.5, 1, 0]])\n",
    "# initial vector of ranks r\n",
    "r = np.array([[0.25], [0.25], [0.25], [0.25]])\n",
    "print(\"several iteration of page-rank algorithm fiding ranks of some webpages\")\n",
    "for i in range(20):\n",
    "    r = L.dot(r)\n",
    "    print(r.T)\n",
    "\n",
    "#r converges to the largest eigenvector \n",
    "w, v = np.linalg.eig(L)\n",
    "#print the largest eigenvector (scaled by some scalar)\n",
    "print(\"the largest eigenvector computed by numpy (that's what page-rank finds):\")\n",
    "print(v[:,0])"
   ]
  },
  {
   "cell_type": "code",
   "execution_count": 226,
   "metadata": {},
   "outputs": [
    {
     "name": "stdout",
     "output_type": "stream",
     "text": [
      "a=-4.646585\n"
     ]
    },
    {
     "data": {
      "image/png": "[encoded data removed]",
      "text/plain": [
       "<matplotlib.figure.Figure at 0x27960b2c320>"
      ]
     },
     "metadata": {},
     "output_type": "display_data"
    }
   ],
   "source": [
    "# two dimensional simple linear regression\n",
    "#choose randomly bunch of points around some prescribed line\n",
    "def line(a, x):\n",
    "    return a*x\n",
    "\n",
    "a = 10*np.random.random()-5\n",
    "#b = 10*np.random.random()-5\n",
    "print(\"a=%f\" % a )\n",
    "nrpts = 50\n",
    "pts = np.zeros( (nrpts, 2))\n",
    "\n",
    "for i in range(nrpts):\n",
    "    x = np.random.random() * 20 - 10\n",
    "    y = line(a,x) + np.random.normal(0, 5)\n",
    "    pts[i,0] = x\n",
    "    pts[i,1] = y\n",
    "\n",
    "X = pts[:,0]\n",
    "Y = pts[:,1]\n",
    "\n",
    "pyp.scatter(X, Y, s=10, c='red')\n",
    "pyp.show()"
   ]
  },
  {
   "cell_type": "code",
   "execution_count": 227,
   "metadata": {},
   "outputs": [
    {
     "name": "stdout",
     "output_type": "stream",
     "text": [
      "-4.733309318556988\n"
     ]
    },
    {
     "data": {
      "image/png": "[encoded data removed]",
      "text/plain": [
       "<matplotlib.figure.Figure at 0x27961085e10>"
      ]
     },
     "metadata": {},
     "output_type": "display_data"
    }
   ],
   "source": [
    "#compute linear regression line that the best approximates the data\n",
    "#the coefficient compute by solving the following analytic equation\n",
    "r = (1 / X.T.dot(X)) * X.T.dot(Y)\n",
    "print(r)\n",
    "\n",
    "pyp.scatter(X, Y, s=10, c='red')\n",
    "pyp.plot(X, r*X)\n",
    "pyp.show()"
   ]
  },
  {
   "cell_type": "code",
   "execution_count": 193,
   "metadata": {},
   "outputs": [],
   "source": [
    "#import the required libraries\n",
    "import math\n",
    "import matplotlib.pyplot as pyp"
   ]
  },
  {
   "cell_type": "code",
   "execution_count": 194,
   "metadata": {},
   "outputs": [
    {
     "name": "stdout",
     "output_type": "stream",
     "text": [
      "[ 1.00000000e+00  9.98026728e-01  9.92114701e-01  9.82287251e-01\n",
      "  9.68583161e-01  9.51056516e-01  9.29776486e-01  9.04827052e-01\n",
      "  8.76306680e-01  8.44327926e-01  8.09016994e-01  7.70513243e-01\n",
      "  7.28968627e-01  6.84547106e-01  6.37423990e-01  5.87785252e-01\n",
      "  5.35826795e-01  4.81753674e-01  4.25779292e-01  3.68124553e-01\n",
      "  3.09016994e-01  2.48689887e-01  1.87381315e-01  1.25333234e-01\n",
      "  6.27905195e-02  6.12323400e-17 -6.27905195e-02 -1.25333234e-01\n",
      " -1.87381315e-01 -2.48689887e-01 -3.09016994e-01 -3.68124553e-01\n",
      " -4.25779292e-01 -4.81753674e-01 -5.35826795e-01 -5.87785252e-01\n",
      " -6.37423990e-01 -6.84547106e-01 -7.28968627e-01 -7.70513243e-01\n",
      " -8.09016994e-01 -8.44327926e-01 -8.76306680e-01 -9.04827052e-01\n",
      " -9.29776486e-01 -9.51056516e-01 -9.68583161e-01 -9.82287251e-01\n",
      " -9.92114701e-01 -9.98026728e-01 -1.00000000e+00 -9.98026728e-01\n",
      " -9.92114701e-01 -9.82287251e-01 -9.68583161e-01 -9.51056516e-01\n",
      " -9.29776486e-01 -9.04827052e-01 -8.76306680e-01 -8.44327926e-01\n",
      " -8.09016994e-01 -7.70513243e-01 -7.28968627e-01 -6.84547106e-01\n",
      " -6.37423990e-01 -5.87785252e-01 -5.35826795e-01 -4.81753674e-01\n",
      " -4.25779292e-01 -3.68124553e-01 -3.09016994e-01 -2.48689887e-01\n",
      " -1.87381315e-01 -1.25333234e-01 -6.27905195e-02 -1.83697020e-16\n",
      "  6.27905195e-02  1.25333234e-01  1.87381315e-01  2.48689887e-01\n",
      "  3.09016994e-01  3.68124553e-01  4.25779292e-01  4.81753674e-01\n",
      "  5.35826795e-01  5.87785252e-01  6.37423990e-01  6.84547106e-01\n",
      "  7.28968627e-01  7.70513243e-01  8.09016994e-01  8.44327926e-01\n",
      "  8.76306680e-01  9.04827052e-01  9.29776486e-01  9.51056516e-01\n",
      "  9.68583161e-01  9.82287251e-01  9.92114701e-01  9.98026728e-01]\n"
     ]
    }
   ],
   "source": [
    "#some simple functions plots\n",
    "x = np.array(range(0,100)) * 2 * math.pi/100\n",
    "y = np.cos(x)\n",
    "\n",
    "print(y)"
   ]
  },
  {
   "cell_type": "code",
   "execution_count": 195,
   "metadata": {},
   "outputs": [
    {
     "data": {
      "image/png": "[encoded data removed]",
      "text/plain": [
       "<matplotlib.figure.Figure at 0x27961309d30>"
      ]
     },
     "metadata": {},
     "output_type": "display_data"
    }
   ],
   "source": [
    "pyp.plot(x,y, 'bo')\n",
    "pyp.xlabel('x')\n",
    "pyp.ylabel('y')\n",
    "pyp.title(' plot of values of cos(x) in range [0,2*pi] ')\n",
    "pyp.show()"
   ]
  },
  {
   "cell_type": "code",
   "execution_count": 26,
   "metadata": {},
   "outputs": [
    {
     "data": {
      "image/png": "[encoded data removed]",
      "text/plain": [
       "<matplotlib.figure.Figure at 0x2893183aa58>"
      ]
     },
     "metadata": {},
     "output_type": "display_data"
    }
   ],
   "source": [
    "x = np.array(range(-150,150))*2*math.pi/100\n",
    "y = np.arctan(x)\n",
    "pyp.plot(x,y, 'go')\n",
    "pyp.xlabel('x')\n",
    "pyp.ylabel('y')\n",
    "pyp.title(' plot of values of arctan(x) in range [-2\\pi, 2\\pi]')\n",
    "pyp.show()"
   ]
  },
  {
   "cell_type": "code",
   "execution_count": 27,
   "metadata": {},
   "outputs": [
    {
     "data": {
      "image/png": "[encoded data removed]",
      "text/plain": [
       "<matplotlib.figure.Figure at 0x289319e20b8>"
      ]
     },
     "metadata": {},
     "output_type": "display_data"
    }
   ],
   "source": [
    "y = np.maximum( np.zeros(x.shape[0]), x )\n",
    "pyp.plot(x,y, 'ro')\n",
    "pyp.xlabel('x')\n",
    "pyp.ylabel('y')\n",
    "pyp.title(' plot of values of ReLU(x) in range [-2\\pi, 2\\pi]')\n",
    "pyp.show()"
   ]
  },
  {
   "cell_type": "code",
   "execution_count": 34,
   "metadata": {},
   "outputs": [
    {
     "name": "stdout",
     "output_type": "stream",
     "text": [
      "[1, 1, 2, 3, 6, 8, 10]\n"
     ]
    }
   ],
   "source": [
    "def quicksort(arr):\n",
    "    if len(arr) <= 1:\n",
    "        return arr\n",
    "    pivot = arr[len(arr) // 2]\n",
    "    left = [x for x in arr if x < pivot]\n",
    "    middle = [x for x in arr if x == pivot]\n",
    "    right = [x for x in arr if x > pivot]\n",
    "    return quicksort(left) + middle + quicksort(right)\n",
    "\n",
    "print(quicksort([3,6,8,10,1,2,1]))"
   ]
  },
  {
   "cell_type": "code",
   "execution_count": 130,
   "metadata": {},
   "outputs": [
    {
     "data": {
      "image/png": "[encoded data removed]",
      "text/plain": [
       "<matplotlib.figure.Figure at 0x2795ea9c358>"
      ]
     },
     "metadata": {},
     "output_type": "display_data"
    }
   ],
   "source": [
    "import numpy as np\n",
    "import matplotlib.pyplot as plt\n",
    "#subplots\n",
    "# Compute the x and y coordinates for points on sine and cosine curves\n",
    "x = np.arange(0, 3 * np.pi, 0.1)\n",
    "y_sin = np.sin(x)\n",
    "y_cos = np.cos(x)\n",
    "\n",
    "# Set up a subplot grid that has height 2 and width 1,\n",
    "# and set the first such subplot as active.\n",
    "plt.subplot(2, 1, 1)\n",
    "\n",
    "# Make the first plot\n",
    "plt.plot(x, y_sin)\n",
    "plt.title('Sine')\n",
    "\n",
    "# Set the second subplot as active, and make the second plot.\n",
    "plt.subplot(2, 1, 2)\n",
    "plt.plot(x, y_cos)\n",
    "plt.title('Cosine')\n",
    "\n",
    "# Show the figure.\n",
    "plt.show()"
   ]
  },
  {
   "cell_type": "code",
   "execution_count": null,
   "metadata": {},
   "outputs": [],
   "source": []
  }
 ],
 "metadata": {
  "kernelspec": {
   "display_name": "Python 3",
   "language": "python",
   "name": "python3"
  },
  "language_info": {
   "codemirror_mode": {
    "name": "ipython",
    "version": 3
   },
   "file_extension": ".py",
   "mimetype": "text/x-python",
   "name": "python",
   "nbconvert_exporter": "python",
   "pygments_lexer": "ipython3",
   "version": "3.6.3"
  }
 },
 "nbformat": 4,
 "nbformat_minor": 2
}
