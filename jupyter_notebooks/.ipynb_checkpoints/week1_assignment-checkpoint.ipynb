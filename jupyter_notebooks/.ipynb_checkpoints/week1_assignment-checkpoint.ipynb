{
 "cells": [
  {
   "cell_type": "code",
   "execution_count": 41,
   "metadata": {},
   "outputs": [
    {
     "name": "stdout",
     "output_type": "stream",
     "text": [
      "-7.914295127470499 -8.136732527616925\n"
     ]
    },
    {
     "data": {
      "image/png": "[encoded data removed]",
      "text/plain": [
       "<matplotlib.figure.Figure at 0x1cf57ac5c50>"
      ]
     },
     "metadata": {},
     "output_type": "display_data"
    }
   ],
   "source": [
    "import numpy as np\n",
    "import matplotlib.pyplot as pyp\n",
    "\n",
    "def line(a, b, x):\n",
    "    return a*x + b\n",
    "\n",
    "a = 20*np.random.random()-10\n",
    "b = 20*np.random.random()-10\n",
    "print( a, b )\n",
    "nrpts = 100\n",
    "pts = np.zeros( (nrpts, 2))\n",
    "\n",
    "for i in range(nrpts):\n",
    "    x = np.random.random() * 20 - 10\n",
    "    y = line(a,b,x) + np.random.normal(0, 30/np.max([abs(x),2]))\n",
    "    pts[i,0] = x\n",
    "    pts[i,1] = y\n",
    "\n",
    "X = pts[:,0]\n",
    "Y = pts[:,1]\n",
    "\n",
    "pyp.scatter(X, Y, s=10, c='red')\n",
    "pyp.show()"
   ]
  },
  {
   "cell_type": "code",
   "execution_count": 42,
   "metadata": {},
   "outputs": [
    {
     "name": "stdout",
     "output_type": "stream",
     "text": [
      "[[ 6.34838306e+00 -6.43671259e+01]\n",
      " [ 9.86381827e+00 -8.27317880e+01]\n",
      " [-9.48214968e+00  6.16270204e+01]\n",
      " [ 2.83024455e+00 -2.00380669e+01]\n",
      " [-1.56129159e-02 -7.20337168e+00]\n",
      " [-5.64956740e+00  3.45951791e+01]\n",
      " [-9.16896106e+00  6.19980038e+01]\n",
      " [-3.78415655e+00  3.70528588e+01]\n",
      " [-7.17647279e+00  4.84074079e+01]\n",
      " [-4.24670288e+00  1.03057126e+01]\n",
      " [ 9.36197495e+00 -8.26014224e+01]\n",
      " [-7.10901302e-02  1.13449408e+01]\n",
      " [ 8.68565181e+00 -7.38273714e+01]\n",
      " [-7.85757317e-01 -2.56740726e+01]\n",
      " [-5.27329456e+00  2.97738686e+01]\n",
      " [-5.79767359e+00  4.21654809e+01]\n",
      " [ 8.75357186e+00 -7.12935844e+01]\n",
      " [ 1.97247090e+00 -3.13968833e+01]\n",
      " [-4.98642863e+00  2.87302996e+01]\n",
      " [-2.79868186e-01 -1.54864012e+01]\n",
      " [ 5.33479577e+00 -5.27024377e+01]\n",
      " [-4.89767910e+00  3.91959743e+01]\n",
      " [-1.10668340e+00 -5.18676759e+00]\n",
      " [ 6.48067363e+00 -5.91136149e+01]\n",
      " [ 7.82962278e+00 -6.41712978e+01]\n",
      " [ 7.66609145e+00 -7.22737702e+01]\n",
      " [-8.72341876e+00  6.23373512e+01]\n",
      " [ 2.73100871e+00 -3.51861268e+01]\n",
      " [ 6.21566452e+00 -5.38408561e+01]\n",
      " [ 3.10776758e+00 -3.92574463e+01]\n",
      " [ 9.87711015e-01  4.68219645e+00]\n",
      " [ 9.70817030e+00 -8.72519791e+01]\n",
      " [ 5.65735801e+00 -4.96308760e+01]\n",
      " [ 7.31891987e+00 -6.11958074e+01]\n",
      " [-3.52717887e-01 -2.92149273e+01]\n",
      " [ 7.03392675e+00 -7.18837978e+01]\n",
      " [-3.93413615e+00  1.99604458e+01]\n",
      " [-5.17351512e+00  3.46252180e+01]\n",
      " [-2.45712588e+00 -1.44837310e-01]\n",
      " [-4.51504775e+00  2.97346736e+01]\n",
      " [-6.58030961e+00  4.28681534e+01]\n",
      " [-1.70138436e+00  1.28171057e+01]\n",
      " [ 7.13202559e+00 -6.13888857e+01]\n",
      " [-2.88006882e+00  1.26104561e+01]\n",
      " [-6.85936161e+00  4.48111162e+01]\n",
      " [-4.14010851e+00  3.60749059e+01]\n",
      " [-1.64635177e+00  3.01590539e+01]\n",
      " [-1.69778278e+00 -7.54628510e-01]\n",
      " [-7.30732620e+00  5.27372563e+01]\n",
      " [-5.21938512e+00  3.96611096e+01]\n",
      " [ 7.11720887e+00 -5.91641050e+01]\n",
      " [-1.25599942e+00 -2.22488208e+01]\n",
      " [-6.27397818e+00  3.37298635e+01]\n",
      " [ 6.33918677e+00 -6.61876744e+01]\n",
      " [ 4.49024481e+00 -3.12948892e+01]\n",
      " [-3.23435626e+00  1.70558665e+01]\n",
      " [ 8.06553584e+00 -6.95053770e+01]\n",
      " [-2.90020631e+00  2.37090994e+01]\n",
      " [ 5.01666329e+00 -4.37377866e+01]\n",
      " [-1.32170606e+00 -7.26242589e+00]\n",
      " [-9.18900604e+00  6.25141358e+01]\n",
      " [-4.61171988e+00  3.02243395e+01]\n",
      " [-7.40790570e+00  5.79501606e+01]\n",
      " [-6.94467971e-01 -1.64328250e+01]\n",
      " [-3.63528720e+00  1.69609646e+01]\n",
      " [ 9.18290773e+00 -7.92283119e+01]\n",
      " [ 5.36927313e+00 -5.59678285e+01]\n",
      " [ 4.58447636e+00 -4.42571778e+01]\n",
      " [ 9.41918978e+00 -8.25048785e+01]\n",
      " [-5.10988754e+00  2.74602747e+01]\n",
      " [ 2.50160284e+00 -1.22319133e+01]\n",
      " [-3.07401481e+00  2.84114132e+01]\n",
      " [ 4.15174444e+00 -4.74839989e+01]\n",
      " [ 3.05873715e+00 -2.15564261e+01]\n",
      " [-9.93177215e+00  6.99179181e+01]\n",
      " [-4.28034491e+00  3.47090353e+01]\n",
      " [ 8.61786837e+00 -7.36053955e+01]\n",
      " [-3.12413529e+00  3.01528087e+01]\n",
      " [-8.30803745e+00  5.88256813e+01]\n",
      " [ 8.10632040e-01 -1.77301934e+01]\n",
      " [ 4.84197848e+00 -4.74779666e+01]\n",
      " [-3.33796980e+00  1.16887298e+01]\n",
      " [-3.88011115e-02 -1.42878742e+01]\n",
      " [ 6.43481549e+00 -5.79308547e+01]\n",
      " [ 8.20210533e+00 -7.28812649e+01]\n",
      " [-8.26633579e+00  5.42476008e+01]\n",
      " [-1.65919912e+00  7.40824069e+00]\n",
      " [-4.25745002e+00  2.64680124e+01]\n",
      " [ 7.75302602e+00 -6.24284869e+01]\n",
      " [-8.78297943e+00  5.84796788e+01]\n",
      " [-3.71192702e+00  1.39322613e+01]\n",
      " [-6.29417168e+00  5.05069008e+01]\n",
      " [-2.18999763e+00  1.00231985e+01]\n",
      " [ 9.91789426e+00 -8.67789798e+01]\n",
      " [ 1.80710954e+00  5.64989523e+00]\n",
      " [ 8.42926383e-01 -4.75031005e+00]\n",
      " [-6.40136077e+00  3.25569530e+01]\n",
      " [-2.58655244e+00  3.75008503e+01]\n",
      " [-1.92161700e+00  1.85052835e+01]\n",
      " [-4.08934273e+00  2.56666719e+01]]\n"
     ]
    }
   ],
   "source": [
    "print(pts)"
   ]
  },
  {
   "cell_type": "code",
   "execution_count": null,
   "metadata": {},
   "outputs": [],
   "source": []
  }
 ],
 "metadata": {
  "kernelspec": {
   "display_name": "Python 3",
   "language": "python",
   "name": "python3"
  }
 },
 "nbformat": 4,
 "nbformat_minor": 2
}
