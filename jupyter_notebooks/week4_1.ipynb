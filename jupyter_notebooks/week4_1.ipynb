{
 "cells": [
  {
   "cell_type": "code",
   "execution_count": 23,
   "metadata": {},
   "outputs": [
    {
     "name": "stdout",
     "output_type": "stream",
     "text": [
      "(3, 3, 3, 3, 3, 3)\n",
      "(3, 3, 3, 3)\n",
      "(3, 3)\n",
      "(3, 3)\n"
     ]
    }
   ],
   "source": [
    "import numpy as np\n",
    "#tensors in NumPy\n",
    "\n",
    "#how to define a tensor\n",
    "n = 3\n",
    "m = 3\n",
    "\n",
    "A = np.ones( (n, n, n) ) # n,m,k dimensional tensor\n",
    "B = np.ones( (n, n, n) )\n",
    "\n",
    "#tensor product\n",
    "C = np.tensordot(A, B, 0)\n",
    "print(C.shape)\n",
    "\n",
    "C = np.tensordot(A, B, 1)\n",
    "print(C.shape)\n",
    "\n",
    "C = np.tensordot(A, B, 2)\n",
    "print(C.shape)\n",
    "\n",
    "C = np.tensordot(A, B, ([0, 1], [1,2]))\n",
    "print(C.shape)\n"
   ]
  },
  {
   "cell_type": "code",
   "execution_count": null,
   "metadata": {},
   "outputs": [],
   "source": []
  }
 ],
 "metadata": {
  "kernelspec": {
   "display_name": "Python 3",
   "language": "python",
   "name": "python3"
  },
  "language_info": {
   "codemirror_mode": {
    "name": "ipython",
    "version": 3
   },
   "file_extension": ".py",
   "mimetype": "text/x-python",
   "name": "python",
   "nbconvert_exporter": "python",
   "pygments_lexer": "ipython3",
   "version": "3.6.3"
  }
 },
 "nbformat": 4,
 "nbformat_minor": 2
}
